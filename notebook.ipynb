{
 "cells": [
  {
   "cell_type": "code",
   "execution_count": null,
   "metadata": {},
   "outputs": [],
   "source": [
    "#pinecone\n",
    "#env\n",
    "import os\n",
    "from dotenv import load_dotenv\n",
    "load_dotenv()\n",
    "#client\n",
    "from pinecone import Pinecone\n",
    "pinecone_client=Pinecone(api_key=os.getenv(\"secret_key_pinecone\"))\n",
    "#create index\n",
    "index_name=\"post\"\n",
    "from pinecone import ServerlessSpec\n",
    "import time\n",
    "if not pinecone_client.has_index(index_name):pinecone_client.create_index(name=index_name,dimension=1024,metric=\"cosine\",spec=ServerlessSpec(cloud='aws',region='us-east-1'))\n",
    "while not pinecone_client.describe_index(index_name).status['ready']:time.sleep(3)\n",
    "index_client=pinecone_client.Index(index_name)\n",
    "#data to insert\n",
    "object_list=[{\"id\": \"vec1\", \"text\": \"Apple is a popular fruit known for its sweetness and crisp texture and red color.\"},{\"id\": \"vec2\", \"text\": \"The tech company Apple is known for its innovative products like the iPhone.\"},{\"id\": \"vec3\", \"text\": \"Many people enjoy eating apples as a healthy snack.\"},{\"id\": \"vec4\", \"text\": \"Apple Inc. has revolutionized the tech industry with its sleek designs and user-friendly interfaces.\"},{\"id\": \"vec5\", \"text\": \"An apple a day keeps the doctor away, as the saying goes.\"},{\"id\": \"vec6\", \"text\": \"Apple Computer Company was founded on April 1, 1976, by Steve Jobs, Steve Wozniak, and Ronald Wayne as a partnership.\"}]\n",
    "text_list=inputs=[item['text'] for item in object_list]\n",
    "#create embeddngs\n",
    "embeddings=pinecone_client.inference.embed(inputs=text_list,model=\"multilingual-e5-large\",parameters={\"input_type\":\"passage\",\"truncate\":\"END\"})\n",
    "#upsert embeddngs\n",
    "records=[]\n",
    "for object,embedding in zip(object_list,embeddings):records.append({\"id\":object['id'],\"values\":embedding['values'],\"metadata\":{'text':object['text']}})\n",
    "index_client.upsert(vectors=records,namespace=\"example-namespace\")\n",
    "time.sleep(10)\n",
    "print(index_client.describe_index_stats())\n",
    "#search\n",
    "query=\"Tell me about the health benefits of Apple.\"\n",
    "query_embedding=pinecone_client.inference.embed(model=\"multilingual-e5-large\",inputs=[query],parameters={\"input_type\":\"query\"})\n",
    "results=index_client.query(namespace=\"example-namespace\",vector=query_embedding[0].values,top_k=3,include_values=False,include_metadata=True)\n",
    "print(results)\n",
    "#rerank\n",
    "documents = [{\"id\": x[\"id\"], \"text\": x[\"metadata\"][\"text\"]} for x in results[\"matches\"]]\n",
    "rerank_results = pinecone_client.inference.rerank(model=\"bge-reranker-v2-m3\",query=query,documents=documents,top_n=3,return_documents=True)\n",
    "print(rerank_results)\n",
    "#delete index\n",
    "pinecone_client.delete_index(index_name)\n",
    "print(\"index deleted\")\n"
   ]
  },
  {
   "cell_type": "code",
   "execution_count": null,
   "metadata": {},
   "outputs": [],
   "source": [
    "#chromadb\n",
    "import chromadb\n",
    "chromadb_client=chromadb.PersistentClient(path=\"/Users/atom/Downloads/chromadb\")\n",
    "collection=chromadb_client.get_or_create_collection(name=\"my_collection\",metadata={\"hnsw:space\":\"cosine\"})\n",
    "documents=[\"This is a document about pineapple\",\"This is a document about oranges\",\"this is a document about steve\"]\n",
    "ids=[\"id1\", \"id2\",\"id3\"]\n",
    "metadatas=[{\"type\":\"beach\",\"health\":2},{\"type\":\"normal\",\"health\":1},{\"type\":\"human\"}]\n",
    "collection.upsert(documents=documents,ids=ids,metadatas=metadatas)\n",
    "query=[\"This is a query document about human\"]\n",
    "results = collection.query(query_texts=query,n_results=3)\n",
    "print(results)\n",
    "chromadb_client.delete_collection(name=\"my_collection\")"
   ]
  }
 ],
 "metadata": {
  "kernelspec": {
   "display_name": "venv",
   "language": "python",
   "name": "python3"
  },
  "language_info": {
   "codemirror_mode": {
    "name": "ipython",
    "version": 3
   },
   "file_extension": ".py",
   "mimetype": "text/x-python",
   "name": "python",
   "nbconvert_exporter": "python",
   "pygments_lexer": "ipython3",
   "version": "3.13.0"
  }
 },
 "nbformat": 4,
 "nbformat_minor": 2
}
